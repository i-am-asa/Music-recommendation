{
 "cells": [
  {
   "cell_type": "markdown",
   "metadata": {
    "id": "VlfTkW7TqNFf"
   },
   "source": [
    "\n",
    "---\n",
    "IMPORTING LIBRARIES\n",
    "\n",
    "\n",
    "---\n",
    "\n"
   ]
  },
  {
   "cell_type": "code",
   "execution_count": 1,
   "metadata": {
    "id": "dgOKkY3KN4jZ"
   },
   "outputs": [],
   "source": [
    "# Importing libraries\n",
    "import numpy as np\n",
    "import pandas as pd\n",
    "from scipy.stats import mode\n",
    "import matplotlib.pyplot as plt\n",
    "import seaborn as sns\n",
    "from sklearn.preprocessing import LabelEncoder\n",
    "from sklearn.model_selection import train_test_split, cross_val_score\n",
    "from sklearn.svm import SVC # regression and classificication\n",
    "from sklearn.naive_bayes import GaussianNB  \n",
    "from sklearn.ensemble import RandomForestClassifier\n",
    "from sklearn.metrics import accuracy_score, confusion_matrix"
   ]
  },
  {
   "cell_type": "markdown",
   "metadata": {
    "id": "MClJayajKFjZ"
   },
   "source": [
    "**Reading the training Data**"
   ]
  },
  {
   "cell_type": "code",
   "execution_count": 2,
   "metadata": {
    "execution": {
     "iopub.execute_input": "2021-11-11T22:22:56.123352Z",
     "iopub.status.busy": "2021-11-11T22:22:56.122688Z",
     "iopub.status.idle": "2021-11-11T22:22:56.198413Z",
     "shell.execute_reply": "2021-11-11T22:22:56.197507Z",
     "shell.execute_reply.started": "2021-11-11T22:22:56.123308Z"
    },
    "id": "_y6li2YdN4jf"
   },
   "outputs": [],
   "source": [
    "DATA_PATH = \"music_train.csv\"\n",
    "\n",
    "df = pd.read_csv(DATA_PATH)"
   ]
  },
  {
   "cell_type": "code",
   "execution_count": 3,
   "metadata": {
    "colab": {
     "base_uri": "https://localhost:8080/",
     "height": 540
    },
    "id": "UxKL5cUJiHJ1",
    "outputId": "ee6442c3-c4d3-4829-a05b-0cfe5ddcc27c"
   },
   "outputs": [
    {
     "data": {
      "text/html": [
       "<div>\n",
       "<style scoped>\n",
       "    .dataframe tbody tr th:only-of-type {\n",
       "        vertical-align: middle;\n",
       "    }\n",
       "\n",
       "    .dataframe tbody tr th {\n",
       "        vertical-align: top;\n",
       "    }\n",
       "\n",
       "    .dataframe thead th {\n",
       "        text-align: right;\n",
       "    }\n",
       "</style>\n",
       "<table border=\"1\" class=\"dataframe\">\n",
       "  <thead>\n",
       "    <tr style=\"text-align: right;\">\n",
       "      <th></th>\n",
       "      <th>artist</th>\n",
       "      <th>title</th>\n",
       "      <th>genre</th>\n",
       "      <th>mood</th>\n",
       "      <th>year</th>\n",
       "    </tr>\n",
       "  </thead>\n",
       "  <tbody>\n",
       "    <tr>\n",
       "      <th>0</th>\n",
       "      <td>Casual</td>\n",
       "      <td>I Didn't Mean To</td>\n",
       "      <td>Hip Hop/Rap</td>\n",
       "      <td>sad</td>\n",
       "      <td>1994.0</td>\n",
       "    </tr>\n",
       "    <tr>\n",
       "      <th>1</th>\n",
       "      <td>Adam Ant</td>\n",
       "      <td>Something Girls</td>\n",
       "      <td>Rock</td>\n",
       "      <td>happy</td>\n",
       "      <td>1982.0</td>\n",
       "    </tr>\n",
       "    <tr>\n",
       "      <th>2</th>\n",
       "      <td>Gob</td>\n",
       "      <td>Face the Ashes</td>\n",
       "      <td>Rock</td>\n",
       "      <td>sad</td>\n",
       "      <td>2007.0</td>\n",
       "    </tr>\n",
       "    <tr>\n",
       "      <th>3</th>\n",
       "      <td>Lionel Richie</td>\n",
       "      <td>Tonight Will Be Alright</td>\n",
       "      <td>R&amp;B</td>\n",
       "      <td>happy</td>\n",
       "      <td>1986.0</td>\n",
       "    </tr>\n",
       "    <tr>\n",
       "      <th>4</th>\n",
       "      <td>Blue Rodeo</td>\n",
       "      <td>Floating</td>\n",
       "      <td>Rock</td>\n",
       "      <td>sad</td>\n",
       "      <td>1987.0</td>\n",
       "    </tr>\n",
       "    <tr>\n",
       "      <th>...</th>\n",
       "      <td>...</td>\n",
       "      <td>...</td>\n",
       "      <td>...</td>\n",
       "      <td>...</td>\n",
       "      <td>...</td>\n",
       "    </tr>\n",
       "    <tr>\n",
       "      <th>694</th>\n",
       "      <td>The Gathering</td>\n",
       "      <td>Gaya's Dream</td>\n",
       "      <td>Electronic</td>\n",
       "      <td>sad</td>\n",
       "      <td>2001.0</td>\n",
       "    </tr>\n",
       "    <tr>\n",
       "      <th>695</th>\n",
       "      <td>Jefferson Starship</td>\n",
       "      <td>Fading Lady Light</td>\n",
       "      <td>Rock</td>\n",
       "      <td>happy</td>\n",
       "      <td>1979.0</td>\n",
       "    </tr>\n",
       "    <tr>\n",
       "      <th>696</th>\n",
       "      <td>Amy Winehouse</td>\n",
       "      <td>Valerie</td>\n",
       "      <td>R&amp;B</td>\n",
       "      <td>sad</td>\n",
       "      <td>2007.0</td>\n",
       "    </tr>\n",
       "    <tr>\n",
       "      <th>697</th>\n",
       "      <td>Eazy-E</td>\n",
       "      <td>I'mma Break It Down</td>\n",
       "      <td>Hip Hop/Rap</td>\n",
       "      <td>sad</td>\n",
       "      <td>1988.0</td>\n",
       "    </tr>\n",
       "    <tr>\n",
       "      <th>698</th>\n",
       "      <td>Heaven 17</td>\n",
       "      <td>Come Live With Me (12'' Extended Version) (200...</td>\n",
       "      <td>Rock</td>\n",
       "      <td>sad</td>\n",
       "      <td>1983.0</td>\n",
       "    </tr>\n",
       "  </tbody>\n",
       "</table>\n",
       "<p>699 rows × 5 columns</p>\n",
       "</div>"
      ],
      "text/plain": [
       "                 artist                                              title  \\\n",
       "0                Casual                                   I Didn't Mean To   \n",
       "1              Adam Ant                                    Something Girls   \n",
       "2                   Gob                                     Face the Ashes   \n",
       "3         Lionel Richie                            Tonight Will Be Alright   \n",
       "4            Blue Rodeo                                           Floating   \n",
       "..                  ...                                                ...   \n",
       "694       The Gathering                                       Gaya's Dream   \n",
       "695  Jefferson Starship                                  Fading Lady Light   \n",
       "696       Amy Winehouse                                            Valerie   \n",
       "697              Eazy-E                                I'mma Break It Down   \n",
       "698           Heaven 17  Come Live With Me (12'' Extended Version) (200...   \n",
       "\n",
       "           genre   mood    year  \n",
       "0    Hip Hop/Rap    sad  1994.0  \n",
       "1           Rock  happy  1982.0  \n",
       "2           Rock    sad  2007.0  \n",
       "3            R&B  happy  1986.0  \n",
       "4           Rock    sad  1987.0  \n",
       "..           ...    ...     ...  \n",
       "694   Electronic    sad  2001.0  \n",
       "695         Rock  happy  1979.0  \n",
       "696          R&B    sad  2007.0  \n",
       "697  Hip Hop/Rap    sad  1988.0  \n",
       "698         Rock    sad  1983.0  \n",
       "\n",
       "[699 rows x 5 columns]"
      ]
     },
     "execution_count": 3,
     "metadata": {},
     "output_type": "execute_result"
    }
   ],
   "source": [
    "df"
   ]
  },
  {
   "cell_type": "markdown",
   "metadata": {
    "id": "pJDsoqa6n6ni"
   },
   "source": [
    "\n",
    "---\n",
    "\n",
    "\n",
    "**DATAPREPROCESSING**\n",
    "\n",
    "---\n",
    "\n"
   ]
  },
  {
   "cell_type": "code",
   "execution_count": 4,
   "metadata": {
    "colab": {
     "base_uri": "https://localhost:8080/"
    },
    "id": "ucQ8aLZ5mMOr",
    "outputId": "09c7403e-c716-45dd-89fd-e951237fadaa"
   },
   "outputs": [],
   "source": [
    "df=df.ffill()"
   ]
  },
  {
   "cell_type": "code",
   "execution_count": 5,
   "metadata": {},
   "outputs": [
    {
     "data": {
      "text/plain": [
       "artist    0\n",
       "title     0\n",
       "genre     0\n",
       "mood      0\n",
       "year      0\n",
       "dtype: int64"
      ]
     },
     "execution_count": 5,
     "metadata": {},
     "output_type": "execute_result"
    }
   ],
   "source": [
    "df.isna().sum()"
   ]
  },
  {
   "cell_type": "markdown",
   "metadata": {
    "id": "QY8b7kTboKY6"
   },
   "source": [
    "CHECKING FOR BALANCED DATA SET"
   ]
  },
  {
   "cell_type": "code",
   "execution_count": 6,
   "metadata": {
    "colab": {
     "base_uri": "https://localhost:8080/"
    },
    "id": "2GWj9Gx0HpdF",
    "outputId": "95f54ff9-71d3-47bd-9e22-7cc4f5d7ae5a"
   },
   "outputs": [
    {
     "data": {
      "text/plain": [
       "array([378,  69,  63,  50,  38,  29,  27,  13,  13,  11,   7,   1],\n",
       "      dtype=int64)"
      ]
     },
     "execution_count": 6,
     "metadata": {},
     "output_type": "execute_result"
    }
   ],
   "source": [
    "genre_counts = df[\"genre\"].value_counts()\n",
    "genre_counts.values"
   ]
  },
  {
   "cell_type": "markdown",
   "metadata": {
    "id": "RszFr1ASKU8e"
   },
   "source": [
    "Sort Data"
   ]
  },
  {
   "cell_type": "code",
   "execution_count": 7,
   "metadata": {
    "colab": {
     "base_uri": "https://localhost:8080/",
     "height": 748
    },
    "id": "eRuqCIPg14BG",
    "outputId": "3d990be4-9bf4-4b88-bf69-bc5ebcd5df13"
   },
   "outputs": [],
   "source": [
    "data=df"
   ]
  },
  {
   "cell_type": "markdown",
   "metadata": {
    "id": "-AEyKZMUoQos"
   },
   "source": [
    "Encoding the target value into numerical value using LabelEncoder"
   ]
  },
  {
   "cell_type": "code",
   "execution_count": 8,
   "metadata": {},
   "outputs": [
    {
     "name": "stdout",
     "output_type": "stream",
     "text": [
      "                 artist                                              title  \\\n",
      "0                Casual                                   I Didn't Mean To   \n",
      "1              Adam Ant                                    Something Girls   \n",
      "2                   Gob                                     Face the Ashes   \n",
      "3         Lionel Richie                            Tonight Will Be Alright   \n",
      "4            Blue Rodeo                                           Floating   \n",
      "..                  ...                                                ...   \n",
      "694       The Gathering                                       Gaya's Dream   \n",
      "695  Jefferson Starship                                  Fading Lady Light   \n",
      "696       Amy Winehouse                                            Valerie   \n",
      "697              Eazy-E                                I'mma Break It Down   \n",
      "698           Heaven 17  Come Live With Me (12'' Extended Version) (200...   \n",
      "\n",
      "           genre   mood    year     year_bins  \n",
      "0    Hip Hop/Rap    sad  1994.0  (1990, 1995]  \n",
      "1           Rock  happy  1982.0  (1980, 1985]  \n",
      "2           Rock    sad  2007.0  (2005, 2010]  \n",
      "3            R&B  happy  1986.0  (1985, 1990]  \n",
      "4           Rock    sad  1987.0  (1985, 1990]  \n",
      "..           ...    ...     ...           ...  \n",
      "694   Electronic    sad  2001.0  (2000, 2005]  \n",
      "695         Rock  happy  1979.0  (1975, 1980]  \n",
      "696          R&B    sad  2007.0  (2005, 2010]  \n",
      "697  Hip Hop/Rap    sad  1988.0  (1985, 1990]  \n",
      "698         Rock    sad  1983.0  (1980, 1985]  \n",
      "\n",
      "[699 rows x 6 columns]\n"
     ]
    }
   ],
   "source": [
    "data['year_bins']=pd.cut(x=data['year'],bins=[1900,1975,1980,1985,1990,1995,2000,2005,2010,2015])\n",
    "print(data)"
   ]
  },
  {
   "cell_type": "code",
   "execution_count": 9,
   "metadata": {
    "execution": {
     "iopub.execute_input": "2021-11-11T22:24:14.351935Z",
     "iopub.status.busy": "2021-11-11T22:24:14.351663Z",
     "iopub.status.idle": "2021-11-11T22:24:14.378622Z",
     "shell.execute_reply": "2021-11-11T22:24:14.377962Z",
     "shell.execute_reply.started": "2021-11-11T22:24:14.351906Z"
    },
    "id": "6_N0fT3xN4jg"
   },
   "outputs": [],
   "source": [
    "encoder = LabelEncoder()\n",
    "data[\"genre_id\"] = encoder.fit_transform(data[\"genre\"])\n",
    "data[\"mood_id\"] = encoder.fit_transform(data[\"mood\"])\n",
    "data[\"time_period\"] = encoder.fit_transform(data[\"year_bins\"])"
   ]
  },
  {
   "cell_type": "code",
   "execution_count": 10,
   "metadata": {
    "colab": {
     "base_uri": "https://localhost:8080/",
     "height": 488
    },
    "id": "jYPtaWDFQ_S7",
    "outputId": "bd79d987-0b94-46d9-c23c-481869f7560c"
   },
   "outputs": [
    {
     "data": {
      "text/html": [
       "<div>\n",
       "<style scoped>\n",
       "    .dataframe tbody tr th:only-of-type {\n",
       "        vertical-align: middle;\n",
       "    }\n",
       "\n",
       "    .dataframe tbody tr th {\n",
       "        vertical-align: top;\n",
       "    }\n",
       "\n",
       "    .dataframe thead th {\n",
       "        text-align: right;\n",
       "    }\n",
       "</style>\n",
       "<table border=\"1\" class=\"dataframe\">\n",
       "  <thead>\n",
       "    <tr style=\"text-align: right;\">\n",
       "      <th></th>\n",
       "      <th>artist</th>\n",
       "      <th>title</th>\n",
       "      <th>genre</th>\n",
       "      <th>mood</th>\n",
       "      <th>year</th>\n",
       "      <th>year_bins</th>\n",
       "      <th>genre_id</th>\n",
       "      <th>mood_id</th>\n",
       "      <th>time_period</th>\n",
       "    </tr>\n",
       "  </thead>\n",
       "  <tbody>\n",
       "    <tr>\n",
       "      <th>0</th>\n",
       "      <td>Casual</td>\n",
       "      <td>I Didn't Mean To</td>\n",
       "      <td>Hip Hop/Rap</td>\n",
       "      <td>sad</td>\n",
       "      <td>1994.0</td>\n",
       "      <td>(1990, 1995]</td>\n",
       "      <td>5</td>\n",
       "      <td>1</td>\n",
       "      <td>4</td>\n",
       "    </tr>\n",
       "    <tr>\n",
       "      <th>1</th>\n",
       "      <td>Adam Ant</td>\n",
       "      <td>Something Girls</td>\n",
       "      <td>Rock</td>\n",
       "      <td>happy</td>\n",
       "      <td>1982.0</td>\n",
       "      <td>(1980, 1985]</td>\n",
       "      <td>9</td>\n",
       "      <td>0</td>\n",
       "      <td>2</td>\n",
       "    </tr>\n",
       "    <tr>\n",
       "      <th>2</th>\n",
       "      <td>Gob</td>\n",
       "      <td>Face the Ashes</td>\n",
       "      <td>Rock</td>\n",
       "      <td>sad</td>\n",
       "      <td>2007.0</td>\n",
       "      <td>(2005, 2010]</td>\n",
       "      <td>9</td>\n",
       "      <td>1</td>\n",
       "      <td>7</td>\n",
       "    </tr>\n",
       "    <tr>\n",
       "      <th>3</th>\n",
       "      <td>Lionel Richie</td>\n",
       "      <td>Tonight Will Be Alright</td>\n",
       "      <td>R&amp;B</td>\n",
       "      <td>happy</td>\n",
       "      <td>1986.0</td>\n",
       "      <td>(1985, 1990]</td>\n",
       "      <td>8</td>\n",
       "      <td>0</td>\n",
       "      <td>3</td>\n",
       "    </tr>\n",
       "    <tr>\n",
       "      <th>4</th>\n",
       "      <td>Blue Rodeo</td>\n",
       "      <td>Floating</td>\n",
       "      <td>Rock</td>\n",
       "      <td>sad</td>\n",
       "      <td>1987.0</td>\n",
       "      <td>(1985, 1990]</td>\n",
       "      <td>9</td>\n",
       "      <td>1</td>\n",
       "      <td>3</td>\n",
       "    </tr>\n",
       "    <tr>\n",
       "      <th>...</th>\n",
       "      <td>...</td>\n",
       "      <td>...</td>\n",
       "      <td>...</td>\n",
       "      <td>...</td>\n",
       "      <td>...</td>\n",
       "      <td>...</td>\n",
       "      <td>...</td>\n",
       "      <td>...</td>\n",
       "      <td>...</td>\n",
       "    </tr>\n",
       "    <tr>\n",
       "      <th>694</th>\n",
       "      <td>The Gathering</td>\n",
       "      <td>Gaya's Dream</td>\n",
       "      <td>Electronic</td>\n",
       "      <td>sad</td>\n",
       "      <td>2001.0</td>\n",
       "      <td>(2000, 2005]</td>\n",
       "      <td>4</td>\n",
       "      <td>1</td>\n",
       "      <td>6</td>\n",
       "    </tr>\n",
       "    <tr>\n",
       "      <th>695</th>\n",
       "      <td>Jefferson Starship</td>\n",
       "      <td>Fading Lady Light</td>\n",
       "      <td>Rock</td>\n",
       "      <td>happy</td>\n",
       "      <td>1979.0</td>\n",
       "      <td>(1975, 1980]</td>\n",
       "      <td>9</td>\n",
       "      <td>0</td>\n",
       "      <td>1</td>\n",
       "    </tr>\n",
       "    <tr>\n",
       "      <th>696</th>\n",
       "      <td>Amy Winehouse</td>\n",
       "      <td>Valerie</td>\n",
       "      <td>R&amp;B</td>\n",
       "      <td>sad</td>\n",
       "      <td>2007.0</td>\n",
       "      <td>(2005, 2010]</td>\n",
       "      <td>8</td>\n",
       "      <td>1</td>\n",
       "      <td>7</td>\n",
       "    </tr>\n",
       "    <tr>\n",
       "      <th>697</th>\n",
       "      <td>Eazy-E</td>\n",
       "      <td>I'mma Break It Down</td>\n",
       "      <td>Hip Hop/Rap</td>\n",
       "      <td>sad</td>\n",
       "      <td>1988.0</td>\n",
       "      <td>(1985, 1990]</td>\n",
       "      <td>5</td>\n",
       "      <td>1</td>\n",
       "      <td>3</td>\n",
       "    </tr>\n",
       "    <tr>\n",
       "      <th>698</th>\n",
       "      <td>Heaven 17</td>\n",
       "      <td>Come Live With Me (12'' Extended Version) (200...</td>\n",
       "      <td>Rock</td>\n",
       "      <td>sad</td>\n",
       "      <td>1983.0</td>\n",
       "      <td>(1980, 1985]</td>\n",
       "      <td>9</td>\n",
       "      <td>1</td>\n",
       "      <td>2</td>\n",
       "    </tr>\n",
       "  </tbody>\n",
       "</table>\n",
       "<p>699 rows × 9 columns</p>\n",
       "</div>"
      ],
      "text/plain": [
       "                 artist                                              title  \\\n",
       "0                Casual                                   I Didn't Mean To   \n",
       "1              Adam Ant                                    Something Girls   \n",
       "2                   Gob                                     Face the Ashes   \n",
       "3         Lionel Richie                            Tonight Will Be Alright   \n",
       "4            Blue Rodeo                                           Floating   \n",
       "..                  ...                                                ...   \n",
       "694       The Gathering                                       Gaya's Dream   \n",
       "695  Jefferson Starship                                  Fading Lady Light   \n",
       "696       Amy Winehouse                                            Valerie   \n",
       "697              Eazy-E                                I'mma Break It Down   \n",
       "698           Heaven 17  Come Live With Me (12'' Extended Version) (200...   \n",
       "\n",
       "           genre   mood    year     year_bins  genre_id  mood_id  time_period  \n",
       "0    Hip Hop/Rap    sad  1994.0  (1990, 1995]         5        1            4  \n",
       "1           Rock  happy  1982.0  (1980, 1985]         9        0            2  \n",
       "2           Rock    sad  2007.0  (2005, 2010]         9        1            7  \n",
       "3            R&B  happy  1986.0  (1985, 1990]         8        0            3  \n",
       "4           Rock    sad  1987.0  (1985, 1990]         9        1            3  \n",
       "..           ...    ...     ...           ...       ...      ...          ...  \n",
       "694   Electronic    sad  2001.0  (2000, 2005]         4        1            6  \n",
       "695         Rock  happy  1979.0  (1975, 1980]         9        0            1  \n",
       "696          R&B    sad  2007.0  (2005, 2010]         8        1            7  \n",
       "697  Hip Hop/Rap    sad  1988.0  (1985, 1990]         5        1            3  \n",
       "698         Rock    sad  1983.0  (1980, 1985]         9        1            2  \n",
       "\n",
       "[699 rows x 9 columns]"
      ]
     },
     "execution_count": 10,
     "metadata": {},
     "output_type": "execute_result"
    }
   ],
   "source": [
    "data"
   ]
  },
  {
   "cell_type": "code",
   "execution_count": 11,
   "metadata": {},
   "outputs": [
    {
     "data": {
      "text/plain": [
       "artist         0\n",
       "title          0\n",
       "genre          0\n",
       "mood           0\n",
       "year           0\n",
       "year_bins      0\n",
       "genre_id       0\n",
       "mood_id        0\n",
       "time_period    0\n",
       "dtype: int64"
      ]
     },
     "execution_count": 11,
     "metadata": {},
     "output_type": "execute_result"
    }
   ],
   "source": [
    "data.isna().sum()"
   ]
  },
  {
   "cell_type": "code",
   "execution_count": 12,
   "metadata": {
    "colab": {
     "base_uri": "https://localhost:8080/",
     "height": 488
    },
    "id": "iTfDuvC-RFSz",
    "outputId": "c178e2f9-489a-470a-bc8b-9060d8b4a340"
   },
   "outputs": [],
   "source": [
    "#data1=data.drop(\"artist\", axis=1)"
   ]
  },
  {
   "cell_type": "code",
   "execution_count": 13,
   "metadata": {},
   "outputs": [],
   "source": [
    "data1=data.drop([\"artist\",\"title\",\"genre\",\"mood\",\"year\",\"year_bins\"], axis=1)"
   ]
  },
  {
   "cell_type": "code",
   "execution_count": 14,
   "metadata": {},
   "outputs": [
    {
     "data": {
      "text/html": [
       "<div>\n",
       "<style scoped>\n",
       "    .dataframe tbody tr th:only-of-type {\n",
       "        vertical-align: middle;\n",
       "    }\n",
       "\n",
       "    .dataframe tbody tr th {\n",
       "        vertical-align: top;\n",
       "    }\n",
       "\n",
       "    .dataframe thead th {\n",
       "        text-align: right;\n",
       "    }\n",
       "</style>\n",
       "<table border=\"1\" class=\"dataframe\">\n",
       "  <thead>\n",
       "    <tr style=\"text-align: right;\">\n",
       "      <th></th>\n",
       "      <th>genre_id</th>\n",
       "      <th>mood_id</th>\n",
       "      <th>time_period</th>\n",
       "    </tr>\n",
       "  </thead>\n",
       "  <tbody>\n",
       "    <tr>\n",
       "      <th>0</th>\n",
       "      <td>5</td>\n",
       "      <td>1</td>\n",
       "      <td>4</td>\n",
       "    </tr>\n",
       "    <tr>\n",
       "      <th>1</th>\n",
       "      <td>9</td>\n",
       "      <td>0</td>\n",
       "      <td>2</td>\n",
       "    </tr>\n",
       "    <tr>\n",
       "      <th>2</th>\n",
       "      <td>9</td>\n",
       "      <td>1</td>\n",
       "      <td>7</td>\n",
       "    </tr>\n",
       "    <tr>\n",
       "      <th>3</th>\n",
       "      <td>8</td>\n",
       "      <td>0</td>\n",
       "      <td>3</td>\n",
       "    </tr>\n",
       "    <tr>\n",
       "      <th>4</th>\n",
       "      <td>9</td>\n",
       "      <td>1</td>\n",
       "      <td>3</td>\n",
       "    </tr>\n",
       "    <tr>\n",
       "      <th>...</th>\n",
       "      <td>...</td>\n",
       "      <td>...</td>\n",
       "      <td>...</td>\n",
       "    </tr>\n",
       "    <tr>\n",
       "      <th>694</th>\n",
       "      <td>4</td>\n",
       "      <td>1</td>\n",
       "      <td>6</td>\n",
       "    </tr>\n",
       "    <tr>\n",
       "      <th>695</th>\n",
       "      <td>9</td>\n",
       "      <td>0</td>\n",
       "      <td>1</td>\n",
       "    </tr>\n",
       "    <tr>\n",
       "      <th>696</th>\n",
       "      <td>8</td>\n",
       "      <td>1</td>\n",
       "      <td>7</td>\n",
       "    </tr>\n",
       "    <tr>\n",
       "      <th>697</th>\n",
       "      <td>5</td>\n",
       "      <td>1</td>\n",
       "      <td>3</td>\n",
       "    </tr>\n",
       "    <tr>\n",
       "      <th>698</th>\n",
       "      <td>9</td>\n",
       "      <td>1</td>\n",
       "      <td>2</td>\n",
       "    </tr>\n",
       "  </tbody>\n",
       "</table>\n",
       "<p>699 rows × 3 columns</p>\n",
       "</div>"
      ],
      "text/plain": [
       "     genre_id  mood_id  time_period\n",
       "0           5        1            4\n",
       "1           9        0            2\n",
       "2           9        1            7\n",
       "3           8        0            3\n",
       "4           9        1            3\n",
       "..        ...      ...          ...\n",
       "694         4        1            6\n",
       "695         9        0            1\n",
       "696         8        1            7\n",
       "697         5        1            3\n",
       "698         9        1            2\n",
       "\n",
       "[699 rows x 3 columns]"
      ]
     },
     "execution_count": 14,
     "metadata": {},
     "output_type": "execute_result"
    }
   ],
   "source": [
    "data1"
   ]
  },
  {
   "cell_type": "markdown",
   "metadata": {
    "id": "JfTudwUponD1"
   },
   "source": [
    "# ---\n",
    "\n",
    "**TRAINING**\n",
    "\n",
    "---\n",
    "\n"
   ]
  },
  {
   "cell_type": "code",
   "execution_count": 15,
   "metadata": {
    "colab": {
     "base_uri": "https://localhost:8080/"
    },
    "execution": {
     "iopub.execute_input": "2021-11-11T22:24:24.921413Z",
     "iopub.status.busy": "2021-11-11T22:24:24.921127Z",
     "iopub.status.idle": "2021-11-11T22:24:24.936967Z",
     "shell.execute_reply": "2021-11-11T22:24:24.935947Z",
     "shell.execute_reply.started": "2021-11-11T22:24:24.921384Z"
    },
    "id": "-Lo-xaM0N4jh",
    "outputId": "9bdd6278-4ffd-46f9-cdf0-8972d67726da"
   },
   "outputs": [
    {
     "name": "stdout",
     "output_type": "stream",
     "text": [
      "Train: (489, 2), (489,)\n",
      "Test: (210, 2), (210,)\n"
     ]
    }
   ],
   "source": [
    "X = data1.drop('genre_id', axis = 1)\n",
    "y = data1['genre_id']\n",
    "X_train, X_test, y_train, y_test =train_test_split(\n",
    "X, y, test_size = 0.3, random_state = 24)\n",
    "\n",
    "print(f\"Train: {X_train.shape}, {y_train.shape}\")\n",
    "print(f\"Test: {X_test.shape}, {y_test.shape}\")\n"
   ]
  },
  {
   "cell_type": "code",
   "execution_count": 16,
   "metadata": {
    "colab": {
     "base_uri": "https://localhost:8080/"
    },
    "id": "SECGTkoUNNdj",
    "outputId": "14b868eb-1ab1-4fa6-fe91-21757f696a1b",
    "scrolled": true
   },
   "outputs": [
    {
     "name": "stderr",
     "output_type": "stream",
     "text": [
      "C:\\Users\\HP\\anaconda3\\lib\\site-packages\\sklearn\\model_selection\\_split.py:680: UserWarning: The least populated class in y has only 1 members, which is less than n_splits=10.\n",
      "  UserWarning,\n"
     ]
    },
    {
     "name": "stdout",
     "output_type": "stream",
     "text": [
      "__________________________________________________________________________________________\n",
      "SVC\n",
      "Scores: [0.54285714 0.54285714 0.54285714 0.54285714 0.54285714 0.54285714\n",
      " 0.54285714 0.52857143 0.52857143 0.55072464]\n",
      "Mean Score: 0.5407867494824016\n",
      "__________________________________________________________________________________________\n",
      "Gaussian NB\n",
      "Scores: [0.48571429 0.45714286 0.41428571 0.22857143 0.47142857 0.48571429\n",
      " 0.5        0.4        0.52857143 0.46376812]\n",
      "Mean Score: 0.44351966873706006\n"
     ]
    },
    {
     "name": "stderr",
     "output_type": "stream",
     "text": [
      "C:\\Users\\HP\\anaconda3\\lib\\site-packages\\sklearn\\model_selection\\_split.py:680: UserWarning: The least populated class in y has only 1 members, which is less than n_splits=10.\n",
      "  UserWarning,\n",
      "C:\\Users\\HP\\anaconda3\\lib\\site-packages\\sklearn\\model_selection\\_split.py:680: UserWarning: The least populated class in y has only 1 members, which is less than n_splits=10.\n",
      "  UserWarning,\n"
     ]
    },
    {
     "name": "stdout",
     "output_type": "stream",
     "text": [
      "__________________________________________________________________________________________\n",
      "Random Forest\n",
      "Scores: [0.54285714 0.54285714 0.54285714 0.54285714 0.54285714 0.54285714\n",
      " 0.54285714 0.52857143 0.52857143 0.55072464]\n",
      "Mean Score: 0.5407867494824016\n"
     ]
    }
   ],
   "source": [
    "\n",
    "# Defining scoring metric for k-fold cross validation\n",
    "def cv_scoring(estimator, X, y):\n",
    "    return accuracy_score(y, estimator.predict(X))\n",
    " \n",
    "# Initializing Models\n",
    "models = {\n",
    "    \"SVC\":SVC(),\n",
    "    \"Gaussian NB\":GaussianNB(),\n",
    "    \"Random Forest\":RandomForestClassifier(random_state=18)\n",
    "}\n",
    " \n",
    "# Producing cross validation score for the models\n",
    "for model_name in models:\n",
    "    model = models[model_name]\n",
    "    scores = cross_val_score(model, X, y, cv = 10,\n",
    "                             n_jobs = -1,\n",
    "                             scoring = cv_scoring)\n",
    "    print(\"___\"*30)\n",
    "    print(model_name)\n",
    "    print(f\"Scores: {scores}\")\n",
    "    print(f\"Mean Score: {np.mean(scores)}\")"
   ]
  },
  {
   "cell_type": "code",
   "execution_count": 17,
   "metadata": {
    "colab": {
     "base_uri": "https://localhost:8080/",
     "height": 1000
    },
    "execution": {
     "iopub.execute_input": "2021-11-11T22:24:25.321285Z",
     "iopub.status.busy": "2021-11-11T22:24:25.320787Z",
     "iopub.status.idle": "2021-11-11T22:24:25.422822Z",
     "shell.execute_reply": "2021-11-11T22:24:25.421968Z",
     "shell.execute_reply.started": "2021-11-11T22:24:25.321242Z"
    },
    "id": "xiXXnWE5N4ji",
    "outputId": "cea0001f-fbd4-4cee-faab-1556b10c6f56"
   },
   "outputs": [
    {
     "name": "stdout",
     "output_type": "stream",
     "text": [
      "Accuracy on train data by SVM Classifier: 54.19222903885481\n",
      "Accuracy on test data by SVM Classifier: 53.80952380952381\n"
     ]
    },
    {
     "data": {
      "image/png": "[encoded data removed]",
      "text/plain": [
       "<Figure size 864x576 with 2 Axes>"
      ]
     },
     "metadata": {
      "needs_background": "light"
     },
     "output_type": "display_data"
    },
    {
     "name": "stdout",
     "output_type": "stream",
     "text": [
      "Accuracy on train data by Naive Bayes Classifier: 34.151329243353786\n",
      "Accuracy on test data by Naive Bayes Classifier: 31.9047619047619\n"
     ]
    },
    {
     "data": {
      "image/png": "[encoded data removed]",
      "text/plain": [
       "<Figure size 864x576 with 2 Axes>"
      ]
     },
     "metadata": {
      "needs_background": "light"
     },
     "output_type": "display_data"
    },
    {
     "name": "stdout",
     "output_type": "stream",
     "text": [
      "Accuracy on train data by Random Forest Classifier: 54.19222903885481\n",
      "Accuracy on test data by Random Forest Classifier: 53.80952380952381\n"
     ]
    },
    {
     "data": {
      "image/png": "[encoded data removed]",
      "text/plain": [
       "<Figure size 864x576 with 2 Axes>"
      ]
     },
     "metadata": {
      "needs_background": "light"
     },
     "output_type": "display_data"
    }
   ],
   "source": [
    "# Training and testing SVM Classifier\n",
    "svm_model = SVC()\n",
    "svm_model.fit(X_train, y_train)\n",
    "preds = svm_model.predict(X_test)\n",
    "\n",
    "print(f\"Accuracy on train data by SVM Classifier\\\n",
    ": {accuracy_score(y_train, svm_model.predict(X_train))*100}\")\n",
    "\n",
    "print(f\"Accuracy on test data by SVM Classifier\\\n",
    ": {accuracy_score(y_test, preds)*100}\")\n",
    "cf_matrix = confusion_matrix(y_test, preds)\n",
    "plt.figure(figsize=(12,8))\n",
    "cfm_plot1=sns.heatmap(cf_matrix, annot=True)\n",
    "plt.title(\"Confusion Matrix for SVM Classifier on Test Data\")\n",
    "plt.show()\n",
    "cfm_plot1.figure.savefig(\"Confusion Matrix for SVM Classifier.png\")\n",
    "\n",
    "# Training and testing Naive Bayes Classifier\n",
    "nb_model = GaussianNB()\n",
    "nb_model.fit(X_train, y_train)\n",
    "preds = nb_model.predict(X_test)\n",
    "print(f\"Accuracy on train data by Naive Bayes Classifier\\\n",
    ": {accuracy_score(y_train, nb_model.predict(X_train))*100}\")\n",
    "\n",
    "print(f\"Accuracy on test data by Naive Bayes Classifier\\\n",
    ": {accuracy_score(y_test, preds)*100}\")\n",
    "cf_matrix = confusion_matrix(y_test, preds)\n",
    "plt.figure(figsize=(12,8))\n",
    "cfm_plot2=sns.heatmap(cf_matrix, annot=True)\n",
    "plt.title(\"Confusion Matrix for Naive Bayes Classifier on Test Data\")\n",
    "plt.show()\n",
    "cfm_plot2.figure.savefig(\"Confusion Matrix for Naive Bayes Classifier.png\")\n",
    "\n",
    "# Training and testing Random Forest Classifier\n",
    "rf_model = RandomForestClassifier(random_state=18)\n",
    "rf_model.fit(X_train, y_train)\n",
    "preds = rf_model.predict(X_test)\n",
    "print(f\"Accuracy on train data by Random Forest Classifier\\\n",
    ": {accuracy_score(y_train, rf_model.predict(X_train))*100}\")\n",
    "\n",
    "print(f\"Accuracy on test data by Random Forest Classifier\\\n",
    ": {accuracy_score(y_test, preds)*100}\")\n",
    "\n",
    "cf_matrix = confusion_matrix(y_test, preds)\n",
    "plt.figure(figsize=(12,8))\n",
    "cfm_plot3=sns.heatmap(cf_matrix, annot=True)\n",
    "plt.title(\"Confusion Matrix for Random Forest Classifier on Test Data\")\n",
    "plt.show()\n",
    "cfm_plot3.figure.savefig(\"Confusion Matrix for Random Forest Classifier.png\")\n"
   ]
  },
  {
   "cell_type": "code",
   "execution_count": 18,
   "metadata": {
    "id": "teG0dr6SpWX5"
   },
   "outputs": [],
   "source": [
    "from sklearn.linear_model import LogisticRegression\n",
    "from sklearn.metrics import classification_report"
   ]
  },
  {
   "cell_type": "code",
   "execution_count": 19,
   "metadata": {
    "id": "nx52xBNyoRRe"
   },
   "outputs": [
    {
     "name": "stderr",
     "output_type": "stream",
     "text": [
      "C:\\Users\\HP\\anaconda3\\lib\\site-packages\\sklearn\\linear_model\\_logistic.py:818: ConvergenceWarning: lbfgs failed to converge (status=1):\n",
      "STOP: TOTAL NO. of ITERATIONS REACHED LIMIT.\n",
      "\n",
      "Increase the number of iterations (max_iter) or scale the data as shown in:\n",
      "    https://scikit-learn.org/stable/modules/preprocessing.html\n",
      "Please also refer to the documentation for alternative solver options:\n",
      "    https://scikit-learn.org/stable/modules/linear_model.html#logistic-regression\n",
      "  extra_warning_msg=_LOGISTIC_SOLVER_CONVERGENCE_MSG,\n"
     ]
    }
   ],
   "source": [
    "model=LogisticRegression()\n",
    "model.fit(X_train,y_train)\n",
    "pred=model.predict(X_test)"
   ]
  },
  {
   "cell_type": "code",
   "execution_count": 20,
   "metadata": {
    "colab": {
     "base_uri": "https://localhost:8080/"
    },
    "id": "blvyteP1nDt-",
    "outputId": "2434722d-e69d-4a02-81f3-ff8548824a49"
   },
   "outputs": [
    {
     "name": "stdout",
     "output_type": "stream",
     "text": [
      "              precision    recall  f1-score   support\n",
      "\n",
      "           0       0.00      0.00      0.00         5\n",
      "           1       0.00      0.00      0.00         9\n",
      "           2       0.00      0.00      0.00        13\n",
      "           3       0.00      0.00      0.00         1\n",
      "           4       0.00      0.00      0.00         7\n",
      "           5       0.00      0.00      0.00        25\n",
      "           6       0.00      0.00      0.00         4\n",
      "           7       0.00      0.00      0.00        16\n",
      "           8       0.00      0.00      0.00        11\n",
      "           9       0.54      1.00      0.70       113\n",
      "          10       0.00      0.00      0.00         4\n",
      "          11       0.00      0.00      0.00         2\n",
      "\n",
      "    accuracy                           0.54       210\n",
      "   macro avg       0.04      0.08      0.06       210\n",
      "weighted avg       0.29      0.54      0.38       210\n",
      "\n"
     ]
    },
    {
     "name": "stderr",
     "output_type": "stream",
     "text": [
      "C:\\Users\\HP\\anaconda3\\lib\\site-packages\\sklearn\\metrics\\_classification.py:1318: UndefinedMetricWarning: Precision and F-score are ill-defined and being set to 0.0 in labels with no predicted samples. Use `zero_division` parameter to control this behavior.\n",
      "  _warn_prf(average, modifier, msg_start, len(result))\n",
      "C:\\Users\\HP\\anaconda3\\lib\\site-packages\\sklearn\\metrics\\_classification.py:1318: UndefinedMetricWarning: Precision and F-score are ill-defined and being set to 0.0 in labels with no predicted samples. Use `zero_division` parameter to control this behavior.\n",
      "  _warn_prf(average, modifier, msg_start, len(result))\n",
      "C:\\Users\\HP\\anaconda3\\lib\\site-packages\\sklearn\\metrics\\_classification.py:1318: UndefinedMetricWarning: Precision and F-score are ill-defined and being set to 0.0 in labels with no predicted samples. Use `zero_division` parameter to control this behavior.\n",
      "  _warn_prf(average, modifier, msg_start, len(result))\n"
     ]
    }
   ],
   "source": [
    "matrix =classification_report(y_test,pred)\n",
    "print(matrix)"
   ]
  },
  {
   "cell_type": "markdown",
   "metadata": {
    "id": "uxyELO3io3yK"
   },
   "source": [
    "\n",
    "---\n",
    "\n",
    "**TESTING**\n",
    "\n",
    "---\n",
    "\n"
   ]
  },
  {
   "cell_type": "code",
   "execution_count": 52,
   "metadata": {
    "id": "8Uo9UYDLZh8q"
   },
   "outputs": [],
   "source": [
    "\n",
    "# Training the models on whole data\n",
    "final_svm_model = SVC()\n",
    "final_nb_model = GaussianNB()\n",
    "final_rf_model = RandomForestClassifier(random_state=18)\n",
    "final_svm_model.fit(X, y)\n",
    "final_nb_model.fit(X, y)\n",
    "final_rf_model.fit(X, y)\n",
    " \n",
    "# Reading the test data\n",
    "test_data = pd.read_csv(\"music_test.csv\")"
   ]
  },
  {
   "cell_type": "markdown",
   "metadata": {
    "id": "jkojrJJKo8Ak"
   },
   "source": [
    "PREPROCESSING OF TEST DATA"
   ]
  },
  {
   "cell_type": "code",
   "execution_count": 53,
   "metadata": {
    "id": "_WWc0uKWuMOF"
   },
   "outputs": [
    {
     "data": {
      "text/plain": [
       "<bound method DataFrame.info of      index               artist                        title    genre   mood  \\\n",
       "0        1          Faron Young     It's Four In The Morning  Country    sad   \n",
       "1        2         Dixie Chicks      Give It Up Or Let Me Go  Country  happy   \n",
       "2        3         Loretta Lynn        I'd Rather Have Jesus      NaN    sad   \n",
       "3        4        Fake Problems              Tabernacle Song     Rock    sad   \n",
       "4        5           Eurythmics              A Little Of You      Pop    sad   \n",
       "..     ...                  ...                          ...      ...    ...   \n",
       "296    297                 Sade           All About Our Love      R&B    sad   \n",
       "297    298      New Found Glory  Don't Let Her Pull You Down     Rock  happy   \n",
       "298    299       Mindy McCready          Ten Thousand Angels  Country  happy   \n",
       "299    300         Joy Division               Leaders Of Men     Rock    sad   \n",
       "300    301  Seventh Day Slumber               Shattered Life     Rock    sad   \n",
       "\n",
       "     year  \n",
       "0    1986  \n",
       "1    1998  \n",
       "2    1965  \n",
       "3    2009  \n",
       "4    1986  \n",
       "..    ...  \n",
       "296  2000  \n",
       "297  2009  \n",
       "298  1996  \n",
       "299  1978  \n",
       "300  2005  \n",
       "\n",
       "[301 rows x 6 columns]>"
      ]
     },
     "execution_count": 53,
     "metadata": {},
     "output_type": "execute_result"
    }
   ],
   "source": [
    "test_data.info"
   ]
  },
  {
   "cell_type": "code",
   "execution_count": 54,
   "metadata": {},
   "outputs": [
    {
     "data": {
      "text/html": [
       "<div>\n",
       "<style scoped>\n",
       "    .dataframe tbody tr th:only-of-type {\n",
       "        vertical-align: middle;\n",
       "    }\n",
       "\n",
       "    .dataframe tbody tr th {\n",
       "        vertical-align: top;\n",
       "    }\n",
       "\n",
       "    .dataframe thead th {\n",
       "        text-align: right;\n",
       "    }\n",
       "</style>\n",
       "<table border=\"1\" class=\"dataframe\">\n",
       "  <thead>\n",
       "    <tr style=\"text-align: right;\">\n",
       "      <th></th>\n",
       "      <th>index</th>\n",
       "      <th>artist</th>\n",
       "      <th>title</th>\n",
       "      <th>genre</th>\n",
       "      <th>mood</th>\n",
       "      <th>year</th>\n",
       "    </tr>\n",
       "  </thead>\n",
       "  <tbody>\n",
       "    <tr>\n",
       "      <th>0</th>\n",
       "      <td>1</td>\n",
       "      <td>Faron Young</td>\n",
       "      <td>It's Four In The Morning</td>\n",
       "      <td>Country</td>\n",
       "      <td>sad</td>\n",
       "      <td>1986</td>\n",
       "    </tr>\n",
       "    <tr>\n",
       "      <th>1</th>\n",
       "      <td>2</td>\n",
       "      <td>Dixie Chicks</td>\n",
       "      <td>Give It Up Or Let Me Go</td>\n",
       "      <td>Country</td>\n",
       "      <td>happy</td>\n",
       "      <td>1998</td>\n",
       "    </tr>\n",
       "    <tr>\n",
       "      <th>2</th>\n",
       "      <td>3</td>\n",
       "      <td>Loretta Lynn</td>\n",
       "      <td>I'd Rather Have Jesus</td>\n",
       "      <td>NaN</td>\n",
       "      <td>sad</td>\n",
       "      <td>1965</td>\n",
       "    </tr>\n",
       "    <tr>\n",
       "      <th>3</th>\n",
       "      <td>4</td>\n",
       "      <td>Fake Problems</td>\n",
       "      <td>Tabernacle Song</td>\n",
       "      <td>Rock</td>\n",
       "      <td>sad</td>\n",
       "      <td>2009</td>\n",
       "    </tr>\n",
       "    <tr>\n",
       "      <th>4</th>\n",
       "      <td>5</td>\n",
       "      <td>Eurythmics</td>\n",
       "      <td>A Little Of You</td>\n",
       "      <td>Pop</td>\n",
       "      <td>sad</td>\n",
       "      <td>1986</td>\n",
       "    </tr>\n",
       "  </tbody>\n",
       "</table>\n",
       "</div>"
      ],
      "text/plain": [
       "   index         artist                     title    genre   mood  year\n",
       "0      1    Faron Young  It's Four In The Morning  Country    sad  1986\n",
       "1      2   Dixie Chicks   Give It Up Or Let Me Go  Country  happy  1998\n",
       "2      3   Loretta Lynn     I'd Rather Have Jesus      NaN    sad  1965\n",
       "3      4  Fake Problems           Tabernacle Song     Rock    sad  2009\n",
       "4      5     Eurythmics           A Little Of You      Pop    sad  1986"
      ]
     },
     "execution_count": 54,
     "metadata": {},
     "output_type": "execute_result"
    }
   ],
   "source": [
    "test_data.head()"
   ]
  },
  {
   "cell_type": "code",
   "execution_count": 55,
   "metadata": {},
   "outputs": [],
   "source": [
    "test_data=test_data.ffill()"
   ]
  },
  {
   "cell_type": "code",
   "execution_count": 56,
   "metadata": {},
   "outputs": [
    {
     "name": "stdout",
     "output_type": "stream",
     "text": [
      "     index               artist                        title    genre   mood  \\\n",
      "0        1          Faron Young     It's Four In The Morning  Country    sad   \n",
      "1        2         Dixie Chicks      Give It Up Or Let Me Go  Country  happy   \n",
      "2        3         Loretta Lynn        I'd Rather Have Jesus  Country    sad   \n",
      "3        4        Fake Problems              Tabernacle Song     Rock    sad   \n",
      "4        5           Eurythmics              A Little Of You      Pop    sad   \n",
      "..     ...                  ...                          ...      ...    ...   \n",
      "296    297                 Sade           All About Our Love      R&B    sad   \n",
      "297    298      New Found Glory  Don't Let Her Pull You Down     Rock  happy   \n",
      "298    299       Mindy McCready          Ten Thousand Angels  Country  happy   \n",
      "299    300         Joy Division               Leaders Of Men     Rock    sad   \n",
      "300    301  Seventh Day Slumber               Shattered Life     Rock    sad   \n",
      "\n",
      "     year     year_bins  \n",
      "0    1986  (1985, 1990]  \n",
      "1    1998  (1995, 2000]  \n",
      "2    1965  (1900, 1975]  \n",
      "3    2009  (2005, 2010]  \n",
      "4    1986  (1985, 1990]  \n",
      "..    ...           ...  \n",
      "296  2000  (1995, 2000]  \n",
      "297  2009  (2005, 2010]  \n",
      "298  1996  (1995, 2000]  \n",
      "299  1978  (1975, 1980]  \n",
      "300  2005  (2000, 2005]  \n",
      "\n",
      "[301 rows x 7 columns]\n"
     ]
    }
   ],
   "source": [
    "test_data['year_bins']=pd.cut(x=test_data['year'],bins=[1900,1975,1980,1985,1990,1995,2000,2005,2010,2015])\n",
    "print(test_data)"
   ]
  },
  {
   "cell_type": "code",
   "execution_count": 57,
   "metadata": {},
   "outputs": [],
   "source": [
    "test_data[\"genre_id\"] = encoder.fit_transform(test_data[\"genre\"])\n",
    "test_data[\"mood_id\"] = encoder.fit_transform(test_data[\"mood\"])\n",
    "test_data[\"time_period\"] = encoder.fit_transform(test_data[\"year_bins\"])"
   ]
  },
  {
   "cell_type": "code",
   "execution_count": 58,
   "metadata": {},
   "outputs": [],
   "source": [
    "test_data1=test_data.drop([\"artist\",\"title\",\"genre\",\"mood\",\"year\",\"year_bins\",\"index\"], axis=1)"
   ]
  },
  {
   "cell_type": "code",
   "execution_count": 59,
   "metadata": {},
   "outputs": [
    {
     "data": {
      "text/html": [
       "<div>\n",
       "<style scoped>\n",
       "    .dataframe tbody tr th:only-of-type {\n",
       "        vertical-align: middle;\n",
       "    }\n",
       "\n",
       "    .dataframe tbody tr th {\n",
       "        vertical-align: top;\n",
       "    }\n",
       "\n",
       "    .dataframe thead th {\n",
       "        text-align: right;\n",
       "    }\n",
       "</style>\n",
       "<table border=\"1\" class=\"dataframe\">\n",
       "  <thead>\n",
       "    <tr style=\"text-align: right;\">\n",
       "      <th></th>\n",
       "      <th>genre_id</th>\n",
       "      <th>mood_id</th>\n",
       "      <th>time_period</th>\n",
       "    </tr>\n",
       "  </thead>\n",
       "  <tbody>\n",
       "    <tr>\n",
       "      <th>0</th>\n",
       "      <td>2</td>\n",
       "      <td>1</td>\n",
       "      <td>3</td>\n",
       "    </tr>\n",
       "    <tr>\n",
       "      <th>1</th>\n",
       "      <td>2</td>\n",
       "      <td>0</td>\n",
       "      <td>5</td>\n",
       "    </tr>\n",
       "    <tr>\n",
       "      <th>2</th>\n",
       "      <td>2</td>\n",
       "      <td>1</td>\n",
       "      <td>0</td>\n",
       "    </tr>\n",
       "    <tr>\n",
       "      <th>3</th>\n",
       "      <td>8</td>\n",
       "      <td>1</td>\n",
       "      <td>7</td>\n",
       "    </tr>\n",
       "    <tr>\n",
       "      <th>4</th>\n",
       "      <td>6</td>\n",
       "      <td>1</td>\n",
       "      <td>3</td>\n",
       "    </tr>\n",
       "    <tr>\n",
       "      <th>...</th>\n",
       "      <td>...</td>\n",
       "      <td>...</td>\n",
       "      <td>...</td>\n",
       "    </tr>\n",
       "    <tr>\n",
       "      <th>296</th>\n",
       "      <td>7</td>\n",
       "      <td>1</td>\n",
       "      <td>5</td>\n",
       "    </tr>\n",
       "    <tr>\n",
       "      <th>297</th>\n",
       "      <td>8</td>\n",
       "      <td>0</td>\n",
       "      <td>7</td>\n",
       "    </tr>\n",
       "    <tr>\n",
       "      <th>298</th>\n",
       "      <td>2</td>\n",
       "      <td>0</td>\n",
       "      <td>5</td>\n",
       "    </tr>\n",
       "    <tr>\n",
       "      <th>299</th>\n",
       "      <td>8</td>\n",
       "      <td>1</td>\n",
       "      <td>1</td>\n",
       "    </tr>\n",
       "    <tr>\n",
       "      <th>300</th>\n",
       "      <td>8</td>\n",
       "      <td>1</td>\n",
       "      <td>6</td>\n",
       "    </tr>\n",
       "  </tbody>\n",
       "</table>\n",
       "<p>301 rows × 3 columns</p>\n",
       "</div>"
      ],
      "text/plain": [
       "     genre_id  mood_id  time_period\n",
       "0           2        1            3\n",
       "1           2        0            5\n",
       "2           2        1            0\n",
       "3           8        1            7\n",
       "4           6        1            3\n",
       "..        ...      ...          ...\n",
       "296         7        1            5\n",
       "297         8        0            7\n",
       "298         2        0            5\n",
       "299         8        1            1\n",
       "300         8        1            6\n",
       "\n",
       "[301 rows x 3 columns]"
      ]
     },
     "execution_count": 59,
     "metadata": {},
     "output_type": "execute_result"
    }
   ],
   "source": [
    "test_data1"
   ]
  },
  {
   "cell_type": "code",
   "execution_count": 60,
   "metadata": {
    "colab": {
     "base_uri": "https://localhost:8080/",
     "height": 517
    },
    "id": "a72o6ikIPeJe",
    "outputId": "d13d3cc5-02e0-4e70-d6d9-c8c9936bf468"
   },
   "outputs": [
    {
     "name": "stdout",
     "output_type": "stream",
     "text": [
      "Accuracy on Test dataset by the combined model: 1.3289036544850499\n"
     ]
    },
    {
     "data": {
      "image/png": "[encoded data removed]",
      "text/plain": [
       "<Figure size 864x576 with 2 Axes>"
      ]
     },
     "metadata": {
      "needs_background": "light"
     },
     "output_type": "display_data"
    }
   ],
   "source": [
    "test_X = test_data1.drop('genre_id', axis = 1)\n",
    "test_Y = encoder.fit_transform(test_data1['genre_id'])\n",
    " \n",
    "# Making prediction by take mode of predictions\n",
    "# made by all the classifiers\n",
    "svm_preds = final_svm_model.predict(test_X)\n",
    "nb_preds = final_nb_model.predict(test_X)\n",
    "rf_preds = final_rf_model.predict(test_X)\n",
    " \n",
    "final_preds = [mode([i,j,k])[0][0] for i,j,\n",
    "               k in zip(svm_preds, nb_preds, rf_preds)]\n",
    " \n",
    "print(f\"Accuracy on Test dataset by the combined model\\\n",
    ": {accuracy_score(test_Y, final_preds)*100}\")\n",
    " \n",
    "cf_matrix = confusion_matrix(test_Y, final_preds)\n",
    "plt.figure(figsize=(12,8))\n",
    " \n",
    "cfm_plot4=sns.heatmap(cf_matrix, annot = True)\n",
    "plt.title(\"Confusion Matrix for Combined Model on Test Dataset\")\n",
    "plt.show()\n",
    "cfm_plot4.figure.savefig(\"Confusion Matrix for Combined Model on Test Dataset.png\")\n"
   ]
  },
  {
   "cell_type": "code",
   "execution_count": 61,
   "metadata": {
    "id": "549QnbAY4IfF"
   },
   "outputs": [],
   "source": [
    "import warnings\n",
    "warnings.filterwarnings('ignore')"
   ]
  },
  {
   "cell_type": "code",
   "execution_count": 62,
   "metadata": {},
   "outputs": [
    {
     "data": {
      "text/html": [
       "<div>\n",
       "<style scoped>\n",
       "    .dataframe tbody tr th:only-of-type {\n",
       "        vertical-align: middle;\n",
       "    }\n",
       "\n",
       "    .dataframe tbody tr th {\n",
       "        vertical-align: top;\n",
       "    }\n",
       "\n",
       "    .dataframe thead th {\n",
       "        text-align: right;\n",
       "    }\n",
       "</style>\n",
       "<table border=\"1\" class=\"dataframe\">\n",
       "  <thead>\n",
       "    <tr style=\"text-align: right;\">\n",
       "      <th></th>\n",
       "      <th>genre_id</th>\n",
       "      <th>mood_id</th>\n",
       "      <th>time_period</th>\n",
       "    </tr>\n",
       "  </thead>\n",
       "  <tbody>\n",
       "    <tr>\n",
       "      <th>0</th>\n",
       "      <td>2</td>\n",
       "      <td>1</td>\n",
       "      <td>3</td>\n",
       "    </tr>\n",
       "    <tr>\n",
       "      <th>1</th>\n",
       "      <td>2</td>\n",
       "      <td>0</td>\n",
       "      <td>5</td>\n",
       "    </tr>\n",
       "    <tr>\n",
       "      <th>2</th>\n",
       "      <td>2</td>\n",
       "      <td>1</td>\n",
       "      <td>0</td>\n",
       "    </tr>\n",
       "    <tr>\n",
       "      <th>3</th>\n",
       "      <td>8</td>\n",
       "      <td>1</td>\n",
       "      <td>7</td>\n",
       "    </tr>\n",
       "    <tr>\n",
       "      <th>4</th>\n",
       "      <td>6</td>\n",
       "      <td>1</td>\n",
       "      <td>3</td>\n",
       "    </tr>\n",
       "    <tr>\n",
       "      <th>...</th>\n",
       "      <td>...</td>\n",
       "      <td>...</td>\n",
       "      <td>...</td>\n",
       "    </tr>\n",
       "    <tr>\n",
       "      <th>296</th>\n",
       "      <td>7</td>\n",
       "      <td>1</td>\n",
       "      <td>5</td>\n",
       "    </tr>\n",
       "    <tr>\n",
       "      <th>297</th>\n",
       "      <td>8</td>\n",
       "      <td>0</td>\n",
       "      <td>7</td>\n",
       "    </tr>\n",
       "    <tr>\n",
       "      <th>298</th>\n",
       "      <td>2</td>\n",
       "      <td>0</td>\n",
       "      <td>5</td>\n",
       "    </tr>\n",
       "    <tr>\n",
       "      <th>299</th>\n",
       "      <td>8</td>\n",
       "      <td>1</td>\n",
       "      <td>1</td>\n",
       "    </tr>\n",
       "    <tr>\n",
       "      <th>300</th>\n",
       "      <td>8</td>\n",
       "      <td>1</td>\n",
       "      <td>6</td>\n",
       "    </tr>\n",
       "  </tbody>\n",
       "</table>\n",
       "<p>301 rows × 3 columns</p>\n",
       "</div>"
      ],
      "text/plain": [
       "     genre_id  mood_id  time_period\n",
       "0           2        1            3\n",
       "1           2        0            5\n",
       "2           2        1            0\n",
       "3           8        1            7\n",
       "4           6        1            3\n",
       "..        ...      ...          ...\n",
       "296         7        1            5\n",
       "297         8        0            7\n",
       "298         2        0            5\n",
       "299         8        1            1\n",
       "300         8        1            6\n",
       "\n",
       "[301 rows x 3 columns]"
      ]
     },
     "execution_count": 62,
     "metadata": {},
     "output_type": "execute_result"
    }
   ],
   "source": [
    "test_data1"
   ]
  },
  {
   "cell_type": "code",
   "execution_count": 32,
   "metadata": {
    "colab": {
     "base_uri": "https://localhost:8080/"
    },
    "id": "Y7C--tvXEcrA",
    "outputId": "fb2f4a59-6bbd-43ba-83ba-affd26f78017"
   },
   "outputs": [
    {
     "name": "stdout",
     "output_type": "stream",
     "text": [
      "['mood_id' 'time_period']\n"
     ]
    }
   ],
   "source": [
    "symptoms = X.columns.values\n",
    "print(symptoms)\n",
    "# Creating a symptom index dictionary to encode the\n",
    "# input symptoms into numerical form\n",
    "symptom_index = {}\n",
    "for index, value in enumerate(symptoms):\n",
    "    symptom = \" \".join([i for i in value.split(\" \")])\n",
    "    symptom_index[symptom] = index\n",
    "\n",
    "data_dict = {\n",
    "    \"symptom_index\":symptom_index,\n",
    "    \"predictions_classes\":encoder.classes_\n",
    "}\n",
    "\n",
    "# Defining the Function\n",
    "# Input: string containing symptoms separated by commmas\n",
    "# Output: Generated predictions by models\n",
    "def predictDisease(symptoms):\n",
    "    symptoms = symptoms.split(\",\")\n",
    "     \n",
    "    # creating input data for the models\n",
    "    input_data = [0] * len(data_dict[\"symptom_index\"])\n",
    "    for symptom in symptoms:\n",
    "        index = data_dict[\"symptom_index\"][symptom]\n",
    "        input_data[index] = 1\n",
    "\n",
    "        print(input_data[index])\n",
    "         \n",
    "    # reshaping the input data and converting it\n",
    "    # into suitable format for model predictions\n",
    "    input_data = np.array(input_data).reshape(1,-1)\n",
    "    print(input_data)\n",
    "    # generating individual outputs\n",
    "    print(\"fk\",final_rf_model.predict(input_data)[0])\n",
    "    rf_prediction = data_dict[\"predictions_classes\"][final_rf_model.predict(input_data)[0]-2]\n",
    "    nb_prediction = data_dict[\"predictions_classes\"][final_nb_model.predict(input_data)[0]-2]\n",
    "    svm_prediction = data_dict[\"predictions_classes\"][final_svm_model.predict(input_data)[0]-2]\n",
    "     \n",
    "    # making final prediction by taking mode of all predictions\n",
    "    final_prediction = mode([rf_prediction, nb_prediction, svm_prediction])[0][0]\n",
    "\n",
    "    \n",
    "    print({\"Random Forest Prediction\": rf_prediction})\n",
    "    print(\"_\"*30)\n",
    "    print({\"Naive Bayes Prediction\": nb_prediction})\n",
    "    print(\"_\"*30)\n",
    "    print({\"SVM Model Prediction\": svm_prediction})\n",
    "    print(\"_\"*30)\n",
    "    print({\"Final Prediction\": final_prediction})\n",
    "    print(\"_\"*30)\n",
    "\n",
    "\n",
    "# Testing the function\n",
    "predictDisease(\"1,3\")"
   ]
  },
  {
   "cell_type": "code",
   "execution_count": 63,
   "metadata": {},
   "outputs": [
    {
     "data": {
      "text/html": [
       "<div>\n",
       "<style scoped>\n",
       "    .dataframe tbody tr th:only-of-type {\n",
       "        vertical-align: middle;\n",
       "    }\n",
       "\n",
       "    .dataframe tbody tr th {\n",
       "        vertical-align: top;\n",
       "    }\n",
       "\n",
       "    .dataframe thead th {\n",
       "        text-align: right;\n",
       "    }\n",
       "</style>\n",
       "<table border=\"1\" class=\"dataframe\">\n",
       "  <thead>\n",
       "    <tr style=\"text-align: right;\">\n",
       "      <th></th>\n",
       "      <th>genre_id</th>\n",
       "      <th>mood_id</th>\n",
       "      <th>time_period</th>\n",
       "    </tr>\n",
       "  </thead>\n",
       "  <tbody>\n",
       "    <tr>\n",
       "      <th>0</th>\n",
       "      <td>2</td>\n",
       "      <td>1</td>\n",
       "      <td>3</td>\n",
       "    </tr>\n",
       "    <tr>\n",
       "      <th>1</th>\n",
       "      <td>2</td>\n",
       "      <td>0</td>\n",
       "      <td>5</td>\n",
       "    </tr>\n",
       "    <tr>\n",
       "      <th>2</th>\n",
       "      <td>2</td>\n",
       "      <td>1</td>\n",
       "      <td>0</td>\n",
       "    </tr>\n",
       "    <tr>\n",
       "      <th>3</th>\n",
       "      <td>8</td>\n",
       "      <td>1</td>\n",
       "      <td>7</td>\n",
       "    </tr>\n",
       "    <tr>\n",
       "      <th>4</th>\n",
       "      <td>6</td>\n",
       "      <td>1</td>\n",
       "      <td>3</td>\n",
       "    </tr>\n",
       "    <tr>\n",
       "      <th>...</th>\n",
       "      <td>...</td>\n",
       "      <td>...</td>\n",
       "      <td>...</td>\n",
       "    </tr>\n",
       "    <tr>\n",
       "      <th>296</th>\n",
       "      <td>7</td>\n",
       "      <td>1</td>\n",
       "      <td>5</td>\n",
       "    </tr>\n",
       "    <tr>\n",
       "      <th>297</th>\n",
       "      <td>8</td>\n",
       "      <td>0</td>\n",
       "      <td>7</td>\n",
       "    </tr>\n",
       "    <tr>\n",
       "      <th>298</th>\n",
       "      <td>2</td>\n",
       "      <td>0</td>\n",
       "      <td>5</td>\n",
       "    </tr>\n",
       "    <tr>\n",
       "      <th>299</th>\n",
       "      <td>8</td>\n",
       "      <td>1</td>\n",
       "      <td>1</td>\n",
       "    </tr>\n",
       "    <tr>\n",
       "      <th>300</th>\n",
       "      <td>8</td>\n",
       "      <td>1</td>\n",
       "      <td>6</td>\n",
       "    </tr>\n",
       "  </tbody>\n",
       "</table>\n",
       "<p>301 rows × 3 columns</p>\n",
       "</div>"
      ],
      "text/plain": [
       "     genre_id  mood_id  time_period\n",
       "0           2        1            3\n",
       "1           2        0            5\n",
       "2           2        1            0\n",
       "3           8        1            7\n",
       "4           6        1            3\n",
       "..        ...      ...          ...\n",
       "296         7        1            5\n",
       "297         8        0            7\n",
       "298         2        0            5\n",
       "299         8        1            1\n",
       "300         8        1            6\n",
       "\n",
       "[301 rows x 3 columns]"
      ]
     },
     "execution_count": 63,
     "metadata": {},
     "output_type": "execute_result"
    }
   ],
   "source": [
    "test_data1"
   ]
  },
  {
   "cell_type": "code",
   "execution_count": 64,
   "metadata": {},
   "outputs": [
    {
     "data": {
      "text/html": [
       "<div>\n",
       "<style scoped>\n",
       "    .dataframe tbody tr th:only-of-type {\n",
       "        vertical-align: middle;\n",
       "    }\n",
       "\n",
       "    .dataframe tbody tr th {\n",
       "        vertical-align: top;\n",
       "    }\n",
       "\n",
       "    .dataframe thead th {\n",
       "        text-align: right;\n",
       "    }\n",
       "</style>\n",
       "<table border=\"1\" class=\"dataframe\">\n",
       "  <thead>\n",
       "    <tr style=\"text-align: right;\">\n",
       "      <th></th>\n",
       "      <th>index</th>\n",
       "      <th>artist</th>\n",
       "      <th>title</th>\n",
       "      <th>genre</th>\n",
       "      <th>mood</th>\n",
       "      <th>year</th>\n",
       "      <th>year_bins</th>\n",
       "      <th>genre_id</th>\n",
       "      <th>mood_id</th>\n",
       "      <th>time_period</th>\n",
       "    </tr>\n",
       "  </thead>\n",
       "  <tbody>\n",
       "    <tr>\n",
       "      <th>0</th>\n",
       "      <td>1</td>\n",
       "      <td>Faron Young</td>\n",
       "      <td>It's Four In The Morning</td>\n",
       "      <td>Country</td>\n",
       "      <td>sad</td>\n",
       "      <td>1986</td>\n",
       "      <td>(1985, 1990]</td>\n",
       "      <td>2</td>\n",
       "      <td>1</td>\n",
       "      <td>3</td>\n",
       "    </tr>\n",
       "    <tr>\n",
       "      <th>1</th>\n",
       "      <td>2</td>\n",
       "      <td>Dixie Chicks</td>\n",
       "      <td>Give It Up Or Let Me Go</td>\n",
       "      <td>Country</td>\n",
       "      <td>happy</td>\n",
       "      <td>1998</td>\n",
       "      <td>(1995, 2000]</td>\n",
       "      <td>2</td>\n",
       "      <td>0</td>\n",
       "      <td>5</td>\n",
       "    </tr>\n",
       "    <tr>\n",
       "      <th>2</th>\n",
       "      <td>3</td>\n",
       "      <td>Loretta Lynn</td>\n",
       "      <td>I'd Rather Have Jesus</td>\n",
       "      <td>Country</td>\n",
       "      <td>sad</td>\n",
       "      <td>1965</td>\n",
       "      <td>(1900, 1975]</td>\n",
       "      <td>2</td>\n",
       "      <td>1</td>\n",
       "      <td>0</td>\n",
       "    </tr>\n",
       "    <tr>\n",
       "      <th>3</th>\n",
       "      <td>4</td>\n",
       "      <td>Fake Problems</td>\n",
       "      <td>Tabernacle Song</td>\n",
       "      <td>Rock</td>\n",
       "      <td>sad</td>\n",
       "      <td>2009</td>\n",
       "      <td>(2005, 2010]</td>\n",
       "      <td>8</td>\n",
       "      <td>1</td>\n",
       "      <td>7</td>\n",
       "    </tr>\n",
       "    <tr>\n",
       "      <th>4</th>\n",
       "      <td>5</td>\n",
       "      <td>Eurythmics</td>\n",
       "      <td>A Little Of You</td>\n",
       "      <td>Pop</td>\n",
       "      <td>sad</td>\n",
       "      <td>1986</td>\n",
       "      <td>(1985, 1990]</td>\n",
       "      <td>6</td>\n",
       "      <td>1</td>\n",
       "      <td>3</td>\n",
       "    </tr>\n",
       "  </tbody>\n",
       "</table>\n",
       "</div>"
      ],
      "text/plain": [
       "   index         artist                     title    genre   mood  year  \\\n",
       "0      1    Faron Young  It's Four In The Morning  Country    sad  1986   \n",
       "1      2   Dixie Chicks   Give It Up Or Let Me Go  Country  happy  1998   \n",
       "2      3   Loretta Lynn     I'd Rather Have Jesus  Country    sad  1965   \n",
       "3      4  Fake Problems           Tabernacle Song     Rock    sad  2009   \n",
       "4      5     Eurythmics           A Little Of You      Pop    sad  1986   \n",
       "\n",
       "      year_bins  genre_id  mood_id  time_period  \n",
       "0  (1985, 1990]         2        1            3  \n",
       "1  (1995, 2000]         2        0            5  \n",
       "2  (1900, 1975]         2        1            0  \n",
       "3  (2005, 2010]         8        1            7  \n",
       "4  (1985, 1990]         6        1            3  "
      ]
     },
     "execution_count": 64,
     "metadata": {},
     "output_type": "execute_result"
    }
   ],
   "source": [
    "test_data2=test_data\n",
    "test_data2.head()"
   ]
  },
  {
   "cell_type": "code",
   "execution_count": 65,
   "metadata": {},
   "outputs": [
    {
     "data": {
      "text/plain": [
       "Text(0.5, 1.0, 'ScatterPlot based on music Genres')"
      ]
     },
     "execution_count": 65,
     "metadata": {},
     "output_type": "execute_result"
    },
    {
     "data": {
      "image/png": "[encoded data removed]",
      "text/plain": [
       "<Figure size 432x288 with 1 Axes>"
      ]
     },
     "metadata": {
      "needs_background": "light"
     },
     "output_type": "display_data"
    }
   ],
   "source": [
    "#scatter plot for the given data without KMode\n",
    "plt.scatter(test_data2['index'],test_data2['genre'])\n",
    "plt.xlabel(\"Music\")\n",
    "plt.ylabel(\"Genre\")\n",
    "plt.title(\"ScatterPlot based on music Genres\")"
   ]
  },
  {
   "cell_type": "code",
   "execution_count": 66,
   "metadata": {},
   "outputs": [
    {
     "data": {
      "text/plain": [
       "array([0, 6, 0, 1, 0, 5, 1, 6, 3, 0, 4, 1, 2, 2, 0, 4, 3, 2, 0, 6, 0, 1,\n",
       "       1, 5, 5, 1, 0, 5, 5, 2, 5, 1, 2, 0, 5, 1, 2, 2, 5, 0, 2, 6, 5, 5,\n",
       "       4, 5, 5, 0, 0, 1, 2, 6, 0, 0, 3, 0, 4, 1, 6, 1, 0, 4, 4, 0, 5, 6,\n",
       "       2, 5, 2, 0, 4, 2, 2, 1, 5, 1, 4, 5, 0, 1, 4, 0, 1, 1, 6, 1, 1, 4,\n",
       "       2, 0, 2, 2, 3, 3, 2, 3, 5, 2, 1, 2, 2, 2, 5, 5, 3, 2, 1, 2, 5, 1,\n",
       "       6, 4, 0, 5, 4, 1, 0, 1, 0, 5, 0, 0, 5, 1, 2, 1, 5, 6, 0, 1, 1, 0,\n",
       "       5, 4, 5, 2, 0, 0, 1, 0, 1, 4, 6, 0, 4, 0, 0, 0, 0, 0, 3, 1, 2, 0,\n",
       "       3, 3, 2, 1, 5, 0, 2, 3, 6, 2, 5, 0, 4, 0, 0, 1, 4, 1, 5, 2, 0, 4,\n",
       "       0, 1, 5, 2, 5, 0, 0, 5, 0, 1, 0, 2, 6, 4, 0, 6, 0, 2, 2, 0, 1, 4,\n",
       "       2, 6, 2, 4, 0, 4, 0, 0, 1, 2, 0, 4, 0, 6, 3, 4, 0, 2, 5, 4, 2, 5,\n",
       "       1, 4, 5, 0, 5, 0, 1, 1, 0, 2, 2, 0, 5, 3, 2, 5, 0, 0, 4, 5, 0, 5,\n",
       "       4, 5, 2, 5, 5, 1, 2, 1, 1, 3, 2, 0, 1, 4, 5, 2, 2, 2, 0, 2, 1, 0,\n",
       "       1, 5, 0, 3, 1, 4, 1, 5, 5, 6, 5, 3, 1, 0, 2, 1, 5, 2, 2, 0, 0, 1,\n",
       "       0, 5, 1, 3, 2, 1, 3, 2, 0, 2, 0, 1, 6, 0, 5], dtype=uint16)"
      ]
     },
     "execution_count": 66,
     "metadata": {},
     "output_type": "execute_result"
    }
   ],
   "source": [
    "from kmodes.kmodes import KModes\n",
    "# Building the model with 7 clusters\n",
    "kmode = KModes(n_clusters=7, init = \"random\", n_init = 50)\n",
    "clusters = kmode.fit_predict(test_data2)\n",
    "clusters"
   ]
  },
  {
   "cell_type": "code",
   "execution_count": 67,
   "metadata": {},
   "outputs": [],
   "source": [
    "test_data2.insert(10, \"Cluster\", clusters, True)"
   ]
  },
  {
   "cell_type": "code",
   "execution_count": 68,
   "metadata": {},
   "outputs": [
    {
     "data": {
      "text/html": [
       "<div>\n",
       "<style scoped>\n",
       "    .dataframe tbody tr th:only-of-type {\n",
       "        vertical-align: middle;\n",
       "    }\n",
       "\n",
       "    .dataframe tbody tr th {\n",
       "        vertical-align: top;\n",
       "    }\n",
       "\n",
       "    .dataframe thead th {\n",
       "        text-align: right;\n",
       "    }\n",
       "</style>\n",
       "<table border=\"1\" class=\"dataframe\">\n",
       "  <thead>\n",
       "    <tr style=\"text-align: right;\">\n",
       "      <th></th>\n",
       "      <th>index</th>\n",
       "      <th>artist</th>\n",
       "      <th>title</th>\n",
       "      <th>genre</th>\n",
       "      <th>mood</th>\n",
       "      <th>year</th>\n",
       "      <th>year_bins</th>\n",
       "      <th>genre_id</th>\n",
       "      <th>mood_id</th>\n",
       "      <th>time_period</th>\n",
       "      <th>Cluster</th>\n",
       "    </tr>\n",
       "  </thead>\n",
       "  <tbody>\n",
       "    <tr>\n",
       "      <th>0</th>\n",
       "      <td>1</td>\n",
       "      <td>Faron Young</td>\n",
       "      <td>It's Four In The Morning</td>\n",
       "      <td>Country</td>\n",
       "      <td>sad</td>\n",
       "      <td>1986</td>\n",
       "      <td>(1985, 1990]</td>\n",
       "      <td>2</td>\n",
       "      <td>1</td>\n",
       "      <td>3</td>\n",
       "      <td>0</td>\n",
       "    </tr>\n",
       "    <tr>\n",
       "      <th>1</th>\n",
       "      <td>2</td>\n",
       "      <td>Dixie Chicks</td>\n",
       "      <td>Give It Up Or Let Me Go</td>\n",
       "      <td>Country</td>\n",
       "      <td>happy</td>\n",
       "      <td>1998</td>\n",
       "      <td>(1995, 2000]</td>\n",
       "      <td>2</td>\n",
       "      <td>0</td>\n",
       "      <td>5</td>\n",
       "      <td>6</td>\n",
       "    </tr>\n",
       "    <tr>\n",
       "      <th>2</th>\n",
       "      <td>3</td>\n",
       "      <td>Loretta Lynn</td>\n",
       "      <td>I'd Rather Have Jesus</td>\n",
       "      <td>Country</td>\n",
       "      <td>sad</td>\n",
       "      <td>1965</td>\n",
       "      <td>(1900, 1975]</td>\n",
       "      <td>2</td>\n",
       "      <td>1</td>\n",
       "      <td>0</td>\n",
       "      <td>0</td>\n",
       "    </tr>\n",
       "    <tr>\n",
       "      <th>3</th>\n",
       "      <td>4</td>\n",
       "      <td>Fake Problems</td>\n",
       "      <td>Tabernacle Song</td>\n",
       "      <td>Rock</td>\n",
       "      <td>sad</td>\n",
       "      <td>2009</td>\n",
       "      <td>(2005, 2010]</td>\n",
       "      <td>8</td>\n",
       "      <td>1</td>\n",
       "      <td>7</td>\n",
       "      <td>1</td>\n",
       "    </tr>\n",
       "    <tr>\n",
       "      <th>4</th>\n",
       "      <td>5</td>\n",
       "      <td>Eurythmics</td>\n",
       "      <td>A Little Of You</td>\n",
       "      <td>Pop</td>\n",
       "      <td>sad</td>\n",
       "      <td>1986</td>\n",
       "      <td>(1985, 1990]</td>\n",
       "      <td>6</td>\n",
       "      <td>1</td>\n",
       "      <td>3</td>\n",
       "      <td>0</td>\n",
       "    </tr>\n",
       "  </tbody>\n",
       "</table>\n",
       "</div>"
      ],
      "text/plain": [
       "   index         artist                     title    genre   mood  year  \\\n",
       "0      1    Faron Young  It's Four In The Morning  Country    sad  1986   \n",
       "1      2   Dixie Chicks   Give It Up Or Let Me Go  Country  happy  1998   \n",
       "2      3   Loretta Lynn     I'd Rather Have Jesus  Country    sad  1965   \n",
       "3      4  Fake Problems           Tabernacle Song     Rock    sad  2009   \n",
       "4      5     Eurythmics           A Little Of You      Pop    sad  1986   \n",
       "\n",
       "      year_bins  genre_id  mood_id  time_period  Cluster  \n",
       "0  (1985, 1990]         2        1            3        0  \n",
       "1  (1995, 2000]         2        0            5        6  \n",
       "2  (1900, 1975]         2        1            0        0  \n",
       "3  (2005, 2010]         8        1            7        1  \n",
       "4  (1985, 1990]         6        1            3        0  "
      ]
     },
     "execution_count": 68,
     "metadata": {},
     "output_type": "execute_result"
    }
   ],
   "source": [
    "test_data2.head()"
   ]
  },
  {
   "cell_type": "code",
   "execution_count": 69,
   "metadata": {},
   "outputs": [
    {
     "data": {
      "text/plain": [
       "array([0, 6, 1, 5, 3, 4, 2], dtype=uint16)"
      ]
     },
     "execution_count": 69,
     "metadata": {},
     "output_type": "execute_result"
    }
   ],
   "source": [
    "test_data2['Cluster'].unique()"
   ]
  },
  {
   "cell_type": "code",
   "execution_count": 72,
   "metadata": {},
   "outputs": [
    {
     "data": {
      "text/plain": [
       "Text(0.5, 1.0, 'ScatterPlot based on Music Genres with Cluster')"
      ]
     },
     "execution_count": 72,
     "metadata": {},
     "output_type": "execute_result"
    },
    {
     "data": {
      "image/png": "[encoded data removed]",
      "text/plain": [
       "<Figure size 432x288 with 1 Axes>"
      ]
     },
     "metadata": {
      "needs_background": "light"
     },
     "output_type": "display_data"
    }
   ],
   "source": [
    "plt.scatter(test_data2['index'],test_data2[\"genre\"], c=test_data2['Cluster'], cmap='rainbow')\n",
    "plt.xlabel(\"Music\")\n",
    "plt.ylabel(\"Genre\")\n",
    "plt.title(\"ScatterPlot based on Music Genres with Cluster\")"
   ]
  },
  {
   "cell_type": "code",
   "execution_count": 76,
   "metadata": {},
   "outputs": [
    {
     "name": "stdout",
     "output_type": "stream",
     "text": [
      "Input Social Media Comment:\n",
      "i failed my exam\n",
      "\n",
      "\n",
      "You feel sad today!\n",
      "What songs are you listening to? \n",
      "A Little Of You\n",
      "Searching for Songs that you may like...\n",
      "47     Away From The Sky\n",
      "195                 War?\n",
      "81           Kill Niggaz\n",
      "286             Patience\n",
      "210          Marvel Hill\n",
      "Name: title, dtype: object\n"
     ]
    }
   ],
   "source": [
    "import random\n",
    "import time\n",
    "import re\n",
    "from  textblob import TextBlob\n",
    "a=0\n",
    "c=7\n",
    "def mood_analyser(Comment):\n",
    "    sentimentText = TextBlob(Comment)\n",
    "    sentiment= sentimentText.sentiment.polarity\n",
    "    pos=0\n",
    "    neg=0\n",
    "    if (sentiment <0):\n",
    "        mood1 = 'sad' \n",
    "        neg=neg+1\n",
    "    if (sentiment>=0):\n",
    "        mood1 = 'happy'\n",
    "        pos=pos+1\n",
    "    return mood1\n",
    "Comment=input(\"Input Social Media Comment:\\n\")\n",
    "mood1=mood_analyser(Comment)\n",
    "print('\\n')\n",
    "print(\"You feel\",mood1,'today!')\n",
    "text= input(\"What songs are you listening to? \\n\")\n",
    "for i in range(len(test_data2['title'])):\n",
    "    if(text==test_data2['title'][i]):\n",
    "        print('Searching for Songs that you may like...')\n",
    "        c=test_data2['Cluster'][i]\n",
    "        a=0\n",
    "        break\n",
    "    else:\n",
    "        a=a+1\n",
    "if(a !=0):\n",
    "    print(\"Music Not Found In The Database\")\n",
    "if(c<7):\n",
    "    data2=test_data2.loc[test_data2['Cluster']==c]\n",
    "    data3=data2.loc[test_data2['mood']==mood1]\n",
    "    data4 = data3.sample(n=5)\n",
    "    print(data4['title'])\n",
    "else:\n",
    "    print('Search for Another Song')"
   ]
  },
  {
   "cell_type": "code",
   "execution_count": null,
   "metadata": {},
   "outputs": [],
   "source": []
  }
 ],
 "metadata": {
  "colab": {
   "collapsed_sections": [],
   "name": "IMLA_G6_DiseasePrediction (1).ipynb",
   "provenance": []
  },
  "kernelspec": {
   "display_name": "Python 3",
   "language": "python",
   "name": "python3"
  },
  "language_info": {
   "codemirror_mode": {
    "name": "ipython",
    "version": 3
   },
   "file_extension": ".py",
   "mimetype": "text/x-python",
   "name": "python",
   "nbconvert_exporter": "python",
   "pygments_lexer": "ipython3",
   "version": "3.7.6"
  }
 },
 "nbformat": 4,
 "nbformat_minor": 1
}
